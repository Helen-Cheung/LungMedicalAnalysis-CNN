{
 "cells": [
  {
   "cell_type": "code",
   "execution_count": 1,
   "metadata": {
    "collapsed": true
   },
   "outputs": [],
   "source": [
    "from __future__ import print_function, division\n",
    "import numpy as np\n",
    "from glob import glob\n",
    "import pandas as pd\n",
    "import os\n",
    "from tqdm import tqdm\n",
    "output_path = os.path.join('..','input')\n",
    "import matplotlib.pyplot as plt\n",
    "from skimage.util._montage import montage\n",
    "from skimage.color import label2rgb\n",
    "%matplotlib inline"
   ]
  },
  {
   "cell_type": "code",
   "execution_count": 2,
   "metadata": {},
   "outputs": [
    {
     "name": "stderr",
     "output_type": "stream",
     "text": [
      "D:\\Users\\asus\\anaconda3\\envs\\keras\\lib\\site-packages\\ipykernel\\__main__.py:2: H5pyDeprecationWarning: The default file mode will change to 'r' (read-only) in h5py 3.0. To suppress this warning, pass the mode you need to h5py.File(), or set the global default h5.get_config().default_file_mode, or set the environment variable H5PY_DEFAULT_READONLY=1. Available modes are: 'r', 'r+', 'w', 'w-'/'x', 'a'. See the docs for details.\n",
      "  from ipykernel import kernelapp as app\n",
      "D:\\Users\\asus\\anaconda3\\envs\\keras\\lib\\site-packages\\ipykernel\\__main__.py:3: H5pyDeprecationWarning: dataset.value has been deprecated. Use dataset[()] instead.\n",
      "  app.launch_new_instance()\n"
     ]
    },
    {
     "name": "stdout",
     "output_type": "stream",
     "text": [
      "data (6691, 64, 64) classes (6691, 1)\n"
     ]
    },
    {
     "name": "stderr",
     "output_type": "stream",
     "text": [
      "D:\\Users\\asus\\anaconda3\\envs\\keras\\lib\\site-packages\\ipykernel\\__main__.py:4: H5pyDeprecationWarning: dataset.value has been deprecated. Use dataset[()] instead.\n"
     ]
    }
   ],
   "source": [
    "import h5py\n",
    "with h5py.File('all_patches.hdf5') as luna_h5:\n",
    "    all_slices = luna_h5['ct_slices'].value\n",
    "    all_classes = luna_h5['slice_class'].value\n",
    "    print('data', all_slices.shape, 'classes', all_classes.shape)"
   ]
  },
  {
   "cell_type": "code",
   "execution_count": 22,
   "metadata": {},
   "outputs": [
    {
     "data": {
      "text/plain": [
       "Text(0.5, 1.0, 'Benign Tiles')"
      ]
     },
     "execution_count": 22,
     "metadata": {},
     "output_type": "execute_result"
    },
    {
     "data": {
      "image/png": "[encoded data removed]",
      "text/plain": [
       "<Figure size 864x432 with 2 Axes>"
      ]
     },
     "metadata": {},
     "output_type": "display_data"
    }
   ],
   "source": [
    "fig, (ax1, ax2) = plt.subplots(1,2,figsize = (12, 6))\n",
    "plt_args = dict(cmap = 'bone', vmin = -600, vmax = 300)\n",
    "ax1.imshow(montage(all_slices[np.random.choice(np.where(all_classes>0.5)[0],1)]), **plt_args)\n",
    "ax1.set_title('Malignant Tiles')\n",
    "ax2.imshow(montage(all_slices[np.random.choice(np.where(all_classes<0.5)[0],1)]), **plt_args)\n",
    "ax2.set_title('Benign Tiles')"
   ]
  },
  {
   "cell_type": "code",
   "execution_count": 29,
   "metadata": {
    "collapsed": true
   },
   "outputs": [],
   "source": [
    "from keras_applications.imagenet_utils import _obtain_input_shape\n",
    "from keras import backend as K\n",
    "from keras.layers import Input, Convolution2D, MaxPooling2D, Activation, concatenate, Dropout, GlobalAveragePooling2D, BatchNormalization,Flatten,Dense\n",
    "from keras.models import Model\n",
    "from keras.engine.topology import get_source_inputs\n",
    "from keras.utils import get_file\n",
    "from keras.utils import layer_utils\n",
    "\n",
    "sq1x1 = \"squeeze1x1\"\n",
    "exp1x1 = \"expand1x1\"\n",
    "exp3x3 = \"expand3x3\"\n",
    "relu = \"relu_\"\n",
    "\n",
    "\n",
    "def AlexNet(input_tensor=None, input_shape=None,\n",
    "               weights='imagenet',\n",
    "               classes=1000,\n",
    "              use_bn_on_input = False, # to avoid preprocessing\n",
    "               first_stride = 2\n",
    "              ):\n",
    "    if weights not in {'imagenet', None}:\n",
    "        raise ValueError('The `weights` argument should be either '\n",
    "                         '`None` (random initialization) or `imagenet` '\n",
    "                         '(pre-training on ImageNet).')\n",
    "\n",
    "    if weights == 'imagenet' and classes != 1000:\n",
    "        raise ValueError('If using `weights` as imagenet with `include_top`'\n",
    "                         ' as true, `classes` should be 1000')\n",
    "\n",
    "    if input_tensor is None:\n",
    "        raw_img_input = Input(shape=input_shape)\n",
    "    else:\n",
    "        if not K.is_keras_tensor(input_tensor):\n",
    "            img_input = Input(tensor=input_tensor, shape=input_shape)\n",
    "        else:\n",
    "            img_input = input_tensor\n",
    "    if use_bn_on_input:\n",
    "        img_input = BatchNormalization()(raw_img_input)\n",
    "    else:\n",
    "        img_input = raw_img_input\n",
    "\n",
    "\n",
    "    x = Convolution2D(96, (3, 3), strides=(first_stride, first_stride), padding='valid', name='conv1')(img_input)\n",
    "    x = Activation('relu', name='relu_conv1')(x)\n",
    "    x = MaxPooling2D(pool_size=(3, 3), strides=(2, 2), name='pool1')(x)\n",
    "\n",
    "    x = Convolution2D(256, (3, 3), strides=(1, 1), padding='same', name='conv2')(x)\n",
    "    x = Activation('relu', name='relu_conv2')(x)\n",
    "    x = MaxPooling2D(pool_size=(3, 3), strides=(2, 2), name='pool2')(x)\n",
    "\n",
    "    x = Convolution2D(384, (3, 3), strides=(1, 1), padding='same', name='conv3')(x)\n",
    "    x = Activation('relu', name='relu_conv3')(x)\n",
    "    x = Convolution2D(384, (3, 3), strides=(1, 1), padding='same', name='conv4')(x)\n",
    "    x = Activation('relu', name='relu_conv4')(x)\n",
    "    x = Convolution2D(256, (3, 3), strides=(1, 1), padding='same', name='conv5')(x)\n",
    "    x = Activation('relu', name='relu_conv5')(x)\n",
    "    x = MaxPooling2D(pool_size=(3, 3), strides=(2, 2), name='pool3')(x)\n",
    "\n",
    "    x = Flatten()(x)\n",
    "    x = Dense(units=4096,name='FCN1')(x)\n",
    "    x = BatchNormalization()(x)\n",
    "    x = Activation('relu',name='relu_FCN1')(x)\n",
    "    x = Dropout(0.5, name='drop1')(x)\n",
    "    \n",
    "    x = Dense(units=4096,name='FCN2')(x)\n",
    "    x = BatchNormalization()(x)\n",
    "    x = Activation('relu',name='relu_FCN2')(x)\n",
    "    x = Dropout(0.5, name='drop2')(x)\n",
    "    \n",
    "    x = Dense(units=2,name='FCN3')(x)\n",
    "    x = BatchNormalization()(x)\n",
    "    out = Activation('softmax', name='loss')(x)\n",
    "\n",
    "\n",
    "    # Ensure that the model takes into account\n",
    "    # any potential predecessors of `input_tensor`.\n",
    "    if input_tensor is not None:\n",
    "        inputs = get_source_inputs(input_tensor)\n",
    "    else:\n",
    "        inputs = raw_img_input\n",
    "\n",
    "    model = Model(inputs, out, name='squeezenet')\n",
    "\n",
    "    # load weights\n",
    "    if weights == 'imagenet':\n",
    "\n",
    "        weights_path = get_file('squeezenet_weights_tf_dim_ordering_tf_kernels.h5',\n",
    "                                    WEIGHTS_PATH,\n",
    "                                    cache_subdir='models')\n",
    "        model.load_weights(weights_path)\n",
    "        if K.backend() == 'theano':\n",
    "            layer_utils.convert_all_kernels_in_model(model)\n",
    "\n",
    "        if K.image_data_format() == 'channels_first':\n",
    "\n",
    "            if K.backend() == 'tensorflow':\n",
    "                warnings.warn('You are using the TensorFlow backend, yet you '\n",
    "                              'are using the Theano '\n",
    "                              'image data format convention '\n",
    "                              '(`image_data_format=\"channels_first\"`). '\n",
    "                              'For best performance, set '\n",
    "                              '`image_data_format=\"channels_last\"` in '\n",
    "                              'your Keras config '\n",
    "                              'at ~/.keras/keras.json.')\n",
    "    return model"
   ]
  },
  {
   "cell_type": "code",
   "execution_count": 30,
   "metadata": {},
   "outputs": [
    {
     "name": "stdout",
     "output_type": "stream",
     "text": [
      "Model: \"squeezenet\"\n",
      "_________________________________________________________________\n",
      "Layer (type)                 Output Shape              Param #   \n",
      "=================================================================\n",
      "input_3 (InputLayer)         (None, 64, 64, 1)         0         \n",
      "_________________________________________________________________\n",
      "batch_normalization_3 (Batch (None, 64, 64, 1)         4         \n",
      "_________________________________________________________________\n",
      "conv1 (Conv2D)               (None, 31, 31, 96)        960       \n",
      "_________________________________________________________________\n",
      "relu_conv1 (Activation)      (None, 31, 31, 96)        0         \n",
      "_________________________________________________________________\n",
      "pool1 (MaxPooling2D)         (None, 15, 15, 96)        0         \n",
      "_________________________________________________________________\n",
      "conv2 (Conv2D)               (None, 15, 15, 256)       221440    \n",
      "_________________________________________________________________\n",
      "relu_conv2 (Activation)      (None, 15, 15, 256)       0         \n",
      "_________________________________________________________________\n",
      "pool2 (MaxPooling2D)         (None, 7, 7, 256)         0         \n",
      "_________________________________________________________________\n",
      "conv3 (Conv2D)               (None, 7, 7, 384)         885120    \n",
      "_________________________________________________________________\n",
      "relu_conv3 (Activation)      (None, 7, 7, 384)         0         \n",
      "_________________________________________________________________\n",
      "conv4 (Conv2D)               (None, 7, 7, 384)         1327488   \n",
      "_________________________________________________________________\n",
      "relu_conv4 (Activation)      (None, 7, 7, 384)         0         \n",
      "_________________________________________________________________\n",
      "conv5 (Conv2D)               (None, 7, 7, 256)         884992    \n",
      "_________________________________________________________________\n",
      "relu_conv5 (Activation)      (None, 7, 7, 256)         0         \n",
      "_________________________________________________________________\n",
      "pool3 (MaxPooling2D)         (None, 3, 3, 256)         0         \n",
      "_________________________________________________________________\n",
      "flatten_1 (Flatten)          (None, 2304)              0         \n",
      "_________________________________________________________________\n",
      "FCN1 (Dense)                 (None, 4096)              9441280   \n",
      "_________________________________________________________________\n",
      "batch_normalization_4 (Batch (None, 4096)              16384     \n",
      "_________________________________________________________________\n",
      "relu_FCN1 (Activation)       (None, 4096)              0         \n",
      "_________________________________________________________________\n",
      "drop1 (Dropout)              (None, 4096)              0         \n",
      "_________________________________________________________________\n",
      "FCN2 (Dense)                 (None, 4096)              16781312  \n",
      "_________________________________________________________________\n",
      "batch_normalization_5 (Batch (None, 4096)              16384     \n",
      "_________________________________________________________________\n",
      "relu_FCN2 (Activation)       (None, 4096)              0         \n",
      "_________________________________________________________________\n",
      "drop2 (Dropout)              (None, 4096)              0         \n",
      "_________________________________________________________________\n",
      "FCN3 (Dense)                 (None, 2)                 8194      \n",
      "_________________________________________________________________\n",
      "batch_normalization_6 (Batch (None, 2)                 8         \n",
      "_________________________________________________________________\n",
      "loss (Activation)            (None, 2)                 0         \n",
      "=================================================================\n",
      "Total params: 29,583,566\n",
      "Trainable params: 29,567,176\n",
      "Non-trainable params: 16,390\n",
      "_________________________________________________________________\n"
     ]
    }
   ],
   "source": [
    "import keras\n",
    "lung_node_cnn = AlexNet(input_shape = (64, 64, 1), \n",
    "                           weights = None, classes = 2,\n",
    "                  use_bn_on_input = True)\n",
    "# initiate RMSprop optimizer\n",
    "opt = keras.optimizers.rmsprop(lr=0.0001, decay=1e-6)\n",
    "\n",
    "# Let's train the model using RMSprop\n",
    "lung_node_cnn.compile(loss='categorical_crossentropy',\n",
    "              optimizer=opt,\n",
    "              metrics=['accuracy'])\n",
    "loss_history = []\n",
    "lung_node_cnn.summary()"
   ]
  },
  {
   "cell_type": "code",
   "execution_count": 31,
   "metadata": {
    "collapsed": true
   },
   "outputs": [],
   "source": [
    "from sklearn.model_selection import train_test_split\n",
    "from keras.utils.np_utils import to_categorical\n",
    "X_vec = (np.expand_dims(all_slices,-1) - np.mean(all_slices))/np.std(all_slices)\n",
    "\n",
    "y_vec = to_categorical(all_classes)\n",
    "X_train, X_test, y_train, y_test = train_test_split(X_vec, y_vec, \n",
    "                                                   train_size = 0.75,\n",
    "                                                   random_state = 1, \n",
    "                                                   stratify = all_classes)"
   ]
  },
  {
   "cell_type": "code",
   "execution_count": 32,
   "metadata": {},
   "outputs": [
    {
     "name": "stdout",
     "output_type": "stream",
     "text": [
      "\n",
      "              precision    recall  f1-score   support\n",
      "\n",
      "           0       0.00      0.00      0.00      1041\n",
      "           1       0.38      1.00      0.55       632\n",
      "\n",
      "    accuracy                           0.38      1673\n",
      "   macro avg       0.19      0.50      0.27      1673\n",
      "weighted avg       0.14      0.38      0.21      1673\n",
      "\n"
     ]
    },
    {
     "name": "stderr",
     "output_type": "stream",
     "text": [
      "D:\\Users\\asus\\anaconda3\\envs\\keras\\lib\\site-packages\\sklearn\\metrics\\_classification.py:1272: UndefinedMetricWarning: Precision and F-score are ill-defined and being set to 0.0 in labels with no predicted samples. Use `zero_division` parameter to control this behavior.\n",
      "  _warn_prf(average, modifier, msg_start, len(result))\n"
     ]
    }
   ],
   "source": [
    "from sklearn.metrics import classification_report\n",
    "y_pred_proba = lung_node_cnn.predict(X_test)\n",
    "y_pred = np.argmax(y_pred_proba,1)\n",
    "print('')\n",
    "print(classification_report(np.argmax(y_test,1),\n",
    "                      y_pred))"
   ]
  },
  {
   "cell_type": "code",
   "execution_count": 33,
   "metadata": {},
   "outputs": [
    {
     "name": "stdout",
     "output_type": "stream",
     "text": [
      "Train on 5018 samples, validate on 1673 samples\n",
      "Epoch 1/1\n",
      "5018/5018 [==============================] - 131s 26ms/step - loss: 0.6281 - accuracy: 0.6546 - val_loss: 0.6317 - val_accuracy: 0.6677\n",
      "Train on 5018 samples, validate on 1673 samples\n",
      "Epoch 1/1\n",
      "5018/5018 [==============================] - 131s 26ms/step - loss: 0.4812 - accuracy: 0.7746 - val_loss: 0.5834 - val_accuracy: 0.7794\n",
      "Train on 5018 samples, validate on 1673 samples\n",
      "Epoch 1/1\n",
      "5018/5018 [==============================] - 129s 26ms/step - loss: 0.3869 - accuracy: 0.8370 - val_loss: 0.4585 - val_accuracy: 0.8745\n",
      "Train on 5018 samples, validate on 1673 samples\n",
      "Epoch 1/1\n",
      "5018/5018 [==============================] - 128s 26ms/step - loss: 0.3156 - accuracy: 0.8842 - val_loss: 0.3728 - val_accuracy: 0.8362\n",
      "Train on 5018 samples, validate on 1673 samples\n",
      "Epoch 1/1\n",
      "5018/5018 [==============================] - 128s 25ms/step - loss: 0.2677 - accuracy: 0.9229 - val_loss: 0.3393 - val_accuracy: 0.8512\n",
      "Train on 5018 samples, validate on 1673 samples\n",
      "Epoch 1/1\n",
      "5018/5018 [==============================] - 129s 26ms/step - loss: 0.2328 - accuracy: 0.9460 - val_loss: 0.3435 - val_accuracy: 0.8362\n",
      "Train on 5018 samples, validate on 1673 samples\n",
      "Epoch 1/1\n",
      "5018/5018 [==============================] - 129s 26ms/step - loss: 0.2040 - accuracy: 0.9651 - val_loss: 0.2691 - val_accuracy: 0.9426\n",
      "Train on 5018 samples, validate on 1673 samples\n",
      "Epoch 1/1\n",
      "5018/5018 [==============================] - 128s 25ms/step - loss: 0.1776 - accuracy: 0.9795 - val_loss: 0.2510 - val_accuracy: 0.9414\n",
      "Train on 5018 samples, validate on 1673 samples\n",
      "Epoch 1/1\n",
      "5018/5018 [==============================] - 130s 26ms/step - loss: 0.1610 - accuracy: 0.9864 - val_loss: 0.3166 - val_accuracy: 0.8960\n",
      "Train on 5018 samples, validate on 1673 samples\n",
      "Epoch 1/1\n",
      "5018/5018 [==============================] - 127s 25ms/step - loss: 0.1503 - accuracy: 0.9872 - val_loss: 0.2327 - val_accuracy: 0.9384\n"
     ]
    }
   ],
   "source": [
    "for i in range(10):\n",
    "    loss_history += [lung_node_cnn.fit(X_train, y_train, \n",
    "              validation_data=(X_test, y_test),\n",
    "                               shuffle = True,\n",
    "                               batch_size = 32,\n",
    "                               epochs = 1)]"
   ]
  },
  {
   "cell_type": "code",
   "execution_count": 34,
   "metadata": {},
   "outputs": [
    {
     "data": {
      "text/plain": [
       "Text(0.5, 1.0, 'Accuracy')"
      ]
     },
     "execution_count": 34,
     "metadata": {},
     "output_type": "execute_result"
    },
    {
     "data": {
      "image/png": "[encoded data removed]",
      "text/plain": [
       "<Figure size 864x432 with 2 Axes>"
      ]
     },
     "metadata": {},
     "output_type": "display_data"
    }
   ],
   "source": [
    "epich = np.cumsum(np.concatenate(\n",
    "    [np.linspace(0.5, 1, len(mh.epoch)) for mh in loss_history]))\n",
    "fig, (ax1, ax2) = plt.subplots(1, 2, figsize=(12, 6))\n",
    "_ = ax1.plot(epich,\n",
    "             np.concatenate([mh.history['loss'] for mh in loss_history]),\n",
    "             'b-',\n",
    "             epich, np.concatenate(\n",
    "        [mh.history['val_loss'] for mh in loss_history]), 'r-')\n",
    "ax1.legend(['Training', 'Validation'])\n",
    "ax1.set_title('Loss')\n",
    "\n",
    "_ = ax2.plot(epich, np.concatenate(\n",
    "    [mh.history['accuracy'] for mh in loss_history]), 'b-',\n",
    "                 epich, np.concatenate(\n",
    "        [mh.history['val_accuracy'] for mh in loss_history]),\n",
    "                 'r-')\n",
    "ax2.legend(['Training', 'Validation'])\n",
    "ax2.set_title('Accuracy')"
   ]
  },
  {
   "cell_type": "code",
   "execution_count": 36,
   "metadata": {},
   "outputs": [
    {
     "name": "stdout",
     "output_type": "stream",
     "text": [
      "\n",
      "              precision    recall  f1-score   support\n",
      "\n",
      "           0       0.92      0.99      0.95      1041\n",
      "           1       0.98      0.85      0.91       632\n",
      "\n",
      "    accuracy                           0.94      1673\n",
      "   macro avg       0.95      0.92      0.93      1673\n",
      "weighted avg       0.94      0.94      0.94      1673\n",
      "\n"
     ]
    }
   ],
   "source": [
    "from sklearn.metrics import classification_report\n",
    "y_pred_proba = lung_node_cnn.predict(X_test)\n",
    "y_pred = np.argmax(y_pred_proba,1)\n",
    "print('')\n",
    "print(classification_report(np.argmax(y_test,1),\n",
    "                      y_pred))"
   ]
  },
  {
   "cell_type": "code",
   "execution_count": 37,
   "metadata": {},
   "outputs": [
    {
     "data": {
      "text/plain": [
       "<matplotlib.legend.Legend at 0x1f700135a20>"
      ]
     },
     "execution_count": 37,
     "metadata": {},
     "output_type": "execute_result"
    },
    {
     "data": {
      "image/png": "[encoded data removed]",
      "text/plain": [
       "<Figure size 432x288 with 1 Axes>"
      ]
     },
     "metadata": {},
     "output_type": "display_data"
    }
   ],
   "source": [
    "from sklearn.metrics import roc_curve, auc\n",
    "fpr, tpr, thresholds = roc_curve(np.argmax(y_test, 1), y_pred_proba[:,1])\n",
    "fig, ax1 = plt.subplots(1,1)\n",
    "ax1.plot(fpr, tpr, 'r-.', label = 'CNN (%2.2f)' % auc(fpr, tpr))\n",
    "ax1.set_xlabel('False Positive Rate')\n",
    "ax1.set_ylabel('True Positive Rate')\n",
    "ax1.plot(fpr, fpr, 'b-', label = 'Random Guess')\n",
    "ax1.legend()"
   ]
  },
  {
   "cell_type": "code",
   "execution_count": null,
   "metadata": {
    "collapsed": true
   },
   "outputs": [],
   "source": []
  }
 ],
 "metadata": {
  "kernelspec": {
   "display_name": "Python [conda env:keras]",
   "language": "python",
   "name": "conda-env-keras-py"
  },
  "language_info": {
   "codemirror_mode": {
    "name": "ipython",
    "version": 3
   },
   "file_extension": ".py",
   "mimetype": "text/x-python",
   "name": "python",
   "nbconvert_exporter": "python",
   "pygments_lexer": "ipython3",
   "version": "3.6.2"
  }
 },
 "nbformat": 4,
 "nbformat_minor": 2
}
